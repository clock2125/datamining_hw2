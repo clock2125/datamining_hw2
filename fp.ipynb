{
 "cells": [
  {
   "cell_type": "markdown",
   "id": "45307b17",
   "metadata": {},
   "source": [
    "# 频繁模式和关联规则挖掘\n",
    "github远程仓库地址：[GitHub - clock2125/datamining_hw2](https://github.com/clock2125/datamining_hw2.git)\n",
    "\n",
    "本次实验选用的数据集为Wine Reviews数据集，该数据集中记录了各个酒庄生产的各种葡萄酒的信息，该数据集主要有以下的属性：\n",
    "- country：葡萄酒的生产国\n",
    "- description：品酒师对该酒的描述\n",
    "- designation：酿造使用的葡萄来自的葡萄园名称\n",
    "- points：WineEnthusiast对葡萄酒的评分\n",
    "- price：一瓶酒的价格\n",
    "- province：酒的生产省份\n",
    "- region_1：酒的生产地\n",
    "- region_2：更详细的生产地\n",
    "- taster_name：品酒师的名字\n",
    "- taster_twitter_handle：品酒师推特账号\n",
    "- title：葡萄酒评论的标题\n",
    "- variety：生产所用葡萄的品种\n",
    "- winery：酒厂名\n",
    "\n",
    "## 导入数据"
   ]
  },
  {
   "cell_type": "code",
   "execution_count": 5,
   "id": "28c75172",
   "metadata": {},
   "outputs": [
    {
     "name": "stdout",
     "output_type": "stream",
     "text": [
      "   Unnamed: 0   country                                        description  \\\n",
      "0           0     Italy  Aromas include tropical fruit, broom, brimston...   \n",
      "1           1  Portugal  This is ripe and fruity, a wine that is smooth...   \n",
      "2           2        US  Tart and snappy, the flavors of lime flesh and...   \n",
      "3           3        US  Pineapple rind, lemon pith and orange blossom ...   \n",
      "4           4        US  Much like the regular bottling from 2012, this...   \n",
      "\n",
      "                          designation  points  price           province  \\\n",
      "0                        Vulkà Bianco      87    NaN  Sicily & Sardinia   \n",
      "1                            Avidagos      87   15.0              Douro   \n",
      "2                                 NaN      87   14.0             Oregon   \n",
      "3                Reserve Late Harvest      87   13.0           Michigan   \n",
      "4  Vintner's Reserve Wild Child Block      87   65.0             Oregon   \n",
      "\n",
      "              region_1           region_2         taster_name  \\\n",
      "0                 Etna                NaN       Kerin O’Keefe   \n",
      "1                  NaN                NaN          Roger Voss   \n",
      "2    Willamette Valley  Willamette Valley        Paul Gregutt   \n",
      "3  Lake Michigan Shore                NaN  Alexander Peartree   \n",
      "4    Willamette Valley  Willamette Valley        Paul Gregutt   \n",
      "\n",
      "  taster_twitter_handle                                              title  \\\n",
      "0          @kerinokeefe                  Nicosia 2013 Vulkà Bianco  (Etna)   \n",
      "1            @vossroger      Quinta dos Avidagos 2011 Avidagos Red (Douro)   \n",
      "2           @paulgwine       Rainstorm 2013 Pinot Gris (Willamette Valley)   \n",
      "3                   NaN  St. Julian 2013 Reserve Late Harvest Riesling ...   \n",
      "4           @paulgwine   Sweet Cheeks 2012 Vintner's Reserve Wild Child...   \n",
      "\n",
      "          variety               winery  \n",
      "0     White Blend              Nicosia  \n",
      "1  Portuguese Red  Quinta dos Avidagos  \n",
      "2      Pinot Gris            Rainstorm  \n",
      "3        Riesling           St. Julian  \n",
      "4      Pinot Noir         Sweet Cheeks  \n"
     ]
    }
   ],
   "source": [
    "import numpy as np \n",
    "import matplotlib.pyplot as plt\n",
    "import pandas as pd\n",
    "\n",
    "df_data = pd.read_csv('datasets/winemag-data-130k-v2.csv') # 读取数据 \n",
    "print(df_data.head(5)) # 查看前五行 "
   ]
  },
  {
   "cell_type": "markdown",
   "id": "c93ee608",
   "metadata": {},
   "source": [
    "## 数据处理\n",
    "title包含生产地、葡萄收获期等信息，重复度较高，而taster_twitter_handle品酒师推特账号和品酒师名字高度重复，因此删去这两列减少数据量。同时为数据集填补缺失值。"
   ]
  },
  {
   "cell_type": "code",
   "execution_count": 6,
   "id": "8d7ac401",
   "metadata": {},
   "outputs": [],
   "source": [
    "from sklearn.impute import SimpleImputer\n",
    "\n",
    "# 删去无用的列\n",
    "df_data = df_data.drop(['Unnamed: 0', 'title', 'taster_twitter_handle'], axis=1)\n",
    "\n",
    "# 用region_1的值来填充region_2的缺失值\n",
    "df_data['region_2'].fillna(value=df_data['region_1'], inplace=True)\n",
    "\n",
    "# 使用最高频率值来填补缺失值\n",
    "simpleImp = SimpleImputer(strategy=\"most_frequent\")\n",
    "data_columns = df_data.columns\n",
    "df_nona = pd.DataFrame(simpleImp.fit_transform(df_data))\n",
    "df_nona.columns = data_columns"
   ]
  },
  {
   "cell_type": "markdown",
   "id": "90745f8d",
   "metadata": {},
   "source": [
    "对于points和price这两个数值属性，要进行离散化处理以便频繁模式挖掘，将points划分成长度为4的区间，每种葡萄酒用其points所在的区间代替原来的points。price也作相同的处理。"
   ]
  },
  {
   "cell_type": "code",
   "execution_count": 7,
   "id": "5cdd9f0a",
   "metadata": {},
   "outputs": [],
   "source": [
    "# 离散化points属性\n",
    "for index, value in df_nona['points'].items():\n",
    "    if 80 <= value < 84:\n",
    "        df_nona['points'].at[index] = '80-84pts'\n",
    "    elif 84 <= value < 88:\n",
    "        df_nona['points'].at[index] = '84-88pts'\n",
    "    elif 88 <= value < 92:\n",
    "        df_nona['points'].at[index] = '88-92pts'\n",
    "    elif 92 <= value < 96:\n",
    "        df_nona['points'].at[index] = '92-96pts'\n",
    "    elif 96 <= value:\n",
    "        df_nona['points'].at[index] = '96-100pts'\n",
    "\n",
    "#离散化price属性\n",
    "for index, value in df_nona['price'].items():\n",
    "    if 0 <= value < 10:\n",
    "        df_nona['price'].at[index] = '0-10$'\n",
    "    elif 10 <= value < 20:\n",
    "        df_nona['price'].at[index] = '10-20$'\n",
    "    elif 20 <= value < 30:\n",
    "        df_nona['price'].at[index] = '20-30$'\n",
    "    elif 30 <= value < 40:\n",
    "        df_nona['price'].at[index] = '30-40$'\n",
    "    elif 40 <= value < 50:\n",
    "        df_nona['price'].at[index] = '40-50$'\n",
    "    elif 50 <= value < 60:\n",
    "        df_nona['price'].at[index] = '50-60$'\n",
    "    elif 60 <= value < 70:\n",
    "        df_nona['price'].at[index] = '60-70$'\n",
    "    elif 70 <= value < 80:\n",
    "        df_nona['price'].at[index] = '70-80$'\n",
    "    elif 80 <= value < 90:\n",
    "        df_nona['price'].at[index] = '80-90$'\n",
    "    elif 90 <= value < 100:\n",
    "        df_nona['price'].at[index] = '90-100$'\n",
    "    elif 100 <= value < 150:\n",
    "        df_nona['price'].at[index] = '100-150$'\n",
    "    elif 150 <= value < 200:\n",
    "        df_nona['price'].at[index] = '150-200$'\n",
    "    elif 200 <= value < 500:\n",
    "        df_nona['price'].at[index] = '200-500$'\n",
    "    elif 500 <= value < 1000:\n",
    "        df_nona['price'].at[index] = '500-1000$'\n",
    "    elif 1000 <= value < 2000:\n",
    "        df_nona['price'].at[index] = '1000-2000$'\n",
    "    elif 2000 <= value:\n",
    "        df_nona['price'].at[index] = '2000-$'\n"
   ]
  },
  {
   "cell_type": "markdown",
   "id": "fbab068c",
   "metadata": {},
   "source": [
    "接下来需要把数据转换为list，其中description属性是品酒师对于葡萄酒的几句话的描述（如\"Aromas of mature black-skinned berry, tobacco and dark spice lead the way. The rounded palate offers dried cherry, raspberry, coffee and a licorice note alongside velvety if not very persistent tannins. Showing the heat of the vintage, this is evolving quickly so enjoy over the next several years.\"），本实验中对description进行了分词，将它分割成了一个个单词，并去除其中的停用词，有助于发现品酒师的用词与其他属性的关联规则。"
   ]
  },
  {
   "cell_type": "code",
   "execution_count": 24,
   "id": "be555abd",
   "metadata": {},
   "outputs": [
    {
     "name": "stdout",
     "output_type": "stream",
     "text": [
      "['country: Italy', 'designation: Vulkà Bianco', 'points: 84-88pts', 'price: 20-30$', 'province: Sicily & Sardinia', 'region_1: Etna', 'region_2: Etna', 'taster_name: Kerin O’Keefe', 'variety: White Blend', 'winery: Nicosia', 'word: Aromas', 'word: include', 'word: tropical', 'word: fruit', 'word: broom', 'word: brimstone', 'word: dried', 'word: herb', 'word: palate', \"word: isn't\", 'word: overly', 'word: expressive', 'word: offering', 'word: unripened', 'word: apple', 'word: citrus', 'word: dried', 'word: sage', 'word: alongside', 'word: brisk', 'word: acidity.']\n",
      "['country: Portugal', 'designation: Avidagos', 'points: 84-88pts', 'price: 10-20$', 'province: Douro', 'region_1: Napa Valley', 'region_2: Central Coast', 'taster_name: Roger Voss', 'variety: Portuguese Red', 'winery: Quinta dos Avidagos', 'word: ripe', 'word: fruity', 'word: smooth', 'word: while', 'word: still', 'word: structured', 'word: Firm', 'word: tannins', 'word: filled', 'word: out', 'word: juicy', 'word: red', 'word: berry', 'word: fruits', 'word: freshened', 'word: acidity', 'word: already', 'word: drinkable', 'word: although', 'word: will', 'word: certainly', 'word: be', 'word: better', 'word: 2016.']\n",
      "['country: US', 'designation: Reserve', 'points: 84-88pts', 'price: 10-20$', 'province: Oregon', 'region_1: Willamette Valley', 'region_2: Willamette Valley', 'taster_name: Paul Gregutt', 'variety: Pinot Gris', 'winery: Rainstorm', 'word: Tart', 'word: snappy', 'word: flavors', 'word: lime', 'word: flesh', 'word: rind', 'word: dominate', 'word: Some', 'word: green', 'word: pineapple', 'word: pokes', 'word: through', 'word: crisp', 'word: acidity', 'word: underscoring', 'word: flavors', 'word: was', 'word: all', 'word: stainless-steel', 'word: fermented.']\n",
      "['country: US', 'designation: Reserve Late Harvest', 'points: 84-88pts', 'price: 10-20$', 'province: Michigan', 'region_1: Lake Michigan Shore', 'region_2: Lake Michigan Shore', 'taster_name: Alexander Peartree', 'variety: Riesling', 'winery: St. Julian', 'word: Pineapple', 'word: rind', 'word: lemon', 'word: pith', 'word: orange', 'word: blossom', 'word: start', 'word: off', 'word: aromas', 'word: palate', 'word: bit', 'word: more', 'word: opulent', 'word: notes', 'word: honey-drizzled', 'word: guava', 'word: mango', 'word: giving', 'word: way', 'word: slightly', 'word: astringent', 'word: semidry', 'word: finish.']\n",
      "['country: US', \"designation: Vintner's Reserve Wild Child Block\", 'points: 84-88pts', 'price: 60-70$', 'province: Oregon', 'region_1: Willamette Valley', 'region_2: Willamette Valley', 'taster_name: Paul Gregutt', 'variety: Pinot Noir', 'winery: Sweet Cheeks', 'word: Much', 'word: like', 'word: regular', 'word: bottling', 'word: 2012', 'word: comes', 'word: across', 'word: as', 'word: rather', 'word: rough', 'word: tannic', 'word: rustic', 'word: earthy', 'word: herbal', 'word: characteristics', 'word: Nonetheless', 'word: if', 'word: you', 'word: think', 'word: as', 'word: pleasantly', 'word: unfussy', 'word: country', 'word: good', 'word: companion', 'word: hearty', 'word: winter', 'word: stew.']\n"
     ]
    }
   ],
   "source": [
    "import re\n",
    "\n",
    "# 将dataFrame转换为list\n",
    "data = df_nona.to_dict('split')['data']\n",
    "\n",
    "# 停用词表\n",
    "stop_words = ['is', 'and', 'the', 'a', 'an', 'this', 'description:', 'to', 'with', 'of', 'in', 'wine', 'on', 'that', 'by', 'are', 'from', 'it\\'s', 'it',\n",
    "              'Is', 'And', 'The', 'A', 'An', 'This', 'Description:', 'To', 'With', 'Of', 'In', 'Wine', 'On', 'That', 'By', 'Are', 'From', 'It\\'s', 'It',\n",
    "              'I']\n",
    "\n",
    "for row in data:\n",
    "    for i in range(len(data_columns)):\n",
    "        if i != 1:\n",
    "            row[i] = data_columns[i] + ': ' + row[i]\n",
    "    description = row.pop(1)\n",
    "    \n",
    "    # 分词\n",
    "    words = re.split(r\"\\b[\\.,\\s\\n\\r\\n]+?\\b\", description)\n",
    "\n",
    "    # 去停用词\n",
    "    for word in words:\n",
    "        if word not in stop_words:\n",
    "            row.append('word: '+word)\n",
    "\n",
    "for i in range(5):\n",
    "    print(data[i])"
   ]
  },
  {
   "cell_type": "markdown",
   "id": "1954a0f6",
   "metadata": {},
   "source": [
    "## 频繁模式和关联规则挖掘\n",
    "使用apriori算法找出频繁模式以及置信度高于0.6的关联规则"
   ]
  },
  {
   "cell_type": "code",
   "execution_count": 25,
   "id": "7b440369",
   "metadata": {},
   "outputs": [
    {
     "name": "stdout",
     "output_type": "stream",
     "text": [
      "RelationRecord(items=frozenset({'country: France', 'taster_name: Roger Voss'}), support=0.14516315178001246, ordered_statistics=[OrderedStatistic(items_base=frozenset({'country: France'}), items_add=frozenset({'taster_name: Roger Voss'}), confidence=0.853980898927262, lift=2.144455956846771)])\n",
      "RelationRecord(items=frozenset({'country: US', 'province: California'}), support=0.27937001331066164, ordered_statistics=[OrderedStatistic(items_base=frozenset({'country: US'}), items_add=frozenset({'province: California'}), confidence=0.665420492238899, lift=2.3818608316381695), OrderedStatistic(items_base=frozenset({'province: California'}), items_add=frozenset({'country: US'}), confidence=1.0, lift=2.3818608316381695)])\n",
      "RelationRecord(items=frozenset({'region_1: Napa Valley', 'region_2: Central Coast'}), support=0.1634749290226281, ordered_statistics=[OrderedStatistic(items_base=frozenset({'region_1: Napa Valley'}), items_add=frozenset({'region_2: Central Coast'}), confidence=0.8258638784156722, lift=3.3186480998504617), OrderedStatistic(items_base=frozenset({'region_2: Central Coast'}), items_add=frozenset({'region_1: Napa Valley'}), confidence=0.6569069997526589, lift=3.3186480998504617)])\n",
      "RelationRecord(items=frozenset({'taster_name: Roger Voss', 'word: has'}), support=0.10735471759084719, ordered_statistics=[OrderedStatistic(items_base=frozenset({'word: has'}), items_add=frozenset({'taster_name: Roger Voss'}), confidence=0.6115445301542778, lift=1.5356670298056656)])\n",
      "RelationRecord(items=frozenset({'country: US', 'province: California', 'points: 88-92pts'}), support=0.11336375037508367, ordered_statistics=[OrderedStatistic(items_base=frozenset({'country: US', 'points: 88-92pts'}), items_add=frozenset({'province: California'}), confidence=0.6268453520527547, lift=2.24378180257914), OrderedStatistic(items_base=frozenset({'province: California', 'points: 88-92pts'}), items_add=frozenset({'country: US'}), confidence=1.0, lift=2.3818608316381695)])\n",
      "RelationRecord(items=frozenset({'taster_name: Roger Voss', 'country: US', 'province: California'}), support=0.12369682467627394, ordered_statistics=[OrderedStatistic(items_base=frozenset({'taster_name: Roger Voss', 'country: US'}), items_add=frozenset({'province: California'}), confidence=0.9582190964358088, lift=3.429928234174015), OrderedStatistic(items_base=frozenset({'taster_name: Roger Voss', 'province: California'}), items_add=frozenset({'country: US'}), confidence=1.0, lift=2.3818608316381695)])\n",
      "RelationRecord(items=frozenset({'country: US', 'province: California', 'word: flavors'}), support=0.13906179070715774, ordered_statistics=[OrderedStatistic(items_base=frozenset({'country: US', 'word: flavors'}), items_add=frozenset({'province: California'}), confidence=0.6569974554707378, lift=2.3517107211508472), OrderedStatistic(items_base=frozenset({'province: California', 'word: flavors'}), items_add=frozenset({'country: US'}), confidence=1.0, lift=2.3818608316381695)])\n"
     ]
    }
   ],
   "source": [
    "from apyori import apriori\n",
    "\n",
    "res = apriori(transactions=data, min_confidence=0.6)\n",
    "for rule in res:\n",
    "    print(str(rule))"
   ]
  },
  {
   "cell_type": "markdown",
   "id": "3b4f09c9",
   "metadata": {},
   "source": [
    "其中每条关联规则后给出了关联规则的lift指标，下面以关联规则france => Roger Voss(0.145163, 0.853981)为例计算其卡方指标$\\chi^2$"
   ]
  },
  {
   "cell_type": "code",
   "execution_count": 21,
   "id": "18f3d405",
   "metadata": {},
   "outputs": [
    {
     "name": "stdout",
     "output_type": "stream",
     "text": [
      "11523.614571493521\n"
     ]
    }
   ],
   "source": [
    "num_France = df_nona['country'].value_counts().at['France']\n",
    "num_Roger = df_nona['taster_name'].value_counts().at['Roger Voss']\n",
    "num_total = df_nona.shape[0]\n",
    "\n",
    "expect_num = int(num_France*num_Roger/num_total)\n",
    "# print(expect_num)\n",
    "observed_num = int(0.14516315178001246*num_total)\n",
    "# print(observed_num)\n",
    "\n",
    "chi_square = (expect_num - observed_num)*(expect_num - observed_num) / expect_num\n",
    "print(chi_square)"
   ]
  },
  {
   "cell_type": "markdown",
   "id": "68eed0f9",
   "metadata": {},
   "source": [
    "## 结果分析\n",
    "从上述的关联规则中可以得到以下信息：\n",
    "1. 法国的葡萄酒有85%都是Roger Voss品尝的。\n",
    "2. 对葡萄酒的描述中有61%的\"has\"都是Roger Voss说的，可能Roger Voss描述葡萄酒时的用词风格是喜欢用has\n",
    "3. Roger Voss品尝的美国酒中有95%都是加州产的，可能Roger Voss这位品酒师更钟爱加州的美国酒\n",
    "4. 此外通过此次关联规则挖掘还发现，葡萄酒的价格与其得分没有必然联系。"
   ]
  },
  {
   "cell_type": "markdown",
   "id": "efc37e57",
   "metadata": {},
   "source": [
    "## 可视化展示"
   ]
  },
  {
   "cell_type": "code",
   "execution_count": 28,
   "id": "65159e1c",
   "metadata": {},
   "outputs": [
    {
     "data": {
      "image/png": "[encoded data removed]",
      "text/plain": [
       "<Figure size 432x288 with 1 Axes>"
      ]
     },
     "metadata": {
      "needs_background": "light"
     },
     "output_type": "display_data"
    }
   ],
   "source": [
    "# 所有法国酒的品尝师分布直方图\n",
    "fig, ax = plt.subplots()\n",
    "df_France_taster = df_nona.loc[df_nona['country'] == 'France', ['taster_name']]\n",
    "df_France_taster['taster_name'].hist(xrot=30, ax=ax, bins=10)\n",
    "\n",
    "plt.show()"
   ]
  },
  {
   "cell_type": "code",
   "execution_count": 29,
   "id": "0ad7a74d",
   "metadata": {},
   "outputs": [
    {
     "data": {
      "image/png": "[encoded data removed]",
      "text/plain": [
       "<Figure size 432x288 with 1 Axes>"
      ]
     },
     "metadata": {
      "needs_background": "light"
     },
     "output_type": "display_data"
    }
   ],
   "source": [
    "# Roger Voss品尝的美国酒来自各地区的直方图\n",
    "fig, ax = plt.subplots()\n",
    "df_US_Roger_prov = df_nona.loc[df_nona['country'] == 'US'].loc[df_nona['taster_name'] == 'Roger Voss', ['province']]\n",
    "df_US_Roger_prov['province'].hist(xrot=60, ax=ax, bins=40)\n",
    "\n",
    "plt.show()"
   ]
  },
  {
   "cell_type": "code",
   "execution_count": null,
   "id": "5f210a08",
   "metadata": {},
   "outputs": [],
   "source": []
  }
 ],
 "metadata": {
  "kernelspec": {
   "display_name": "Python 3 (ipykernel)",
   "language": "python",
   "name": "python3"
  },
  "language_info": {
   "codemirror_mode": {
    "name": "ipython",
    "version": 3
   },
   "file_extension": ".py",
   "mimetype": "text/x-python",
   "name": "python",
   "nbconvert_exporter": "python",
   "pygments_lexer": "ipython3",
   "version": "3.8.8"
  }
 },
 "nbformat": 4,
 "nbformat_minor": 5
}
